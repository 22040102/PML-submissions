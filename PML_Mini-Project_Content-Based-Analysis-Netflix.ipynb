{
 "cells": [
  {
   "cell_type": "markdown",
   "id": "4bec33f1",
   "metadata": {},
   "source": [
    "# PML Mini-Project\n",
    "\n",
    "### Netflix Content based analysis: Netflix Thumbnails investigation\n",
    "\n",
    "#### Does a recommendation system replicate similar results to an existing public product? \n",
    "I will make use of a user with no background data to investigate the similarities."
   ]
  },
  {
   "cell_type": "markdown",
   "id": "fafc7287",
   "metadata": {},
   "source": [
    "Using a pretrained model for recommendations, with input of a netflix movies and tv shows dataset, I will investigate and analyse any bias in the recommendation system and how/if  that correlates visually to a user on a browser.\n",
    "\n",
    "> REF: https://www.kaggle.com/datasets/victorsoeiro/netflix-tv-shows-and-movies"
   ]
  },
  {
   "cell_type": "markdown",
   "id": "8a47fdde",
   "metadata": {},
   "source": [
    "## Content based filtering"
   ]
  },
  {
   "cell_type": "code",
   "execution_count": 3,
   "id": "3afd2d51",
   "metadata": {},
   "outputs": [],
   "source": [
    "import pandas as pd \n",
    "import numpy as np \n",
    "import json\n",
    "import matplotlib.pyplot as plt"
   ]
  },
  {
   "cell_type": "code",
   "execution_count": 4,
   "id": "ae687f6a",
   "metadata": {},
   "outputs": [],
   "source": [
    "#loading in the dataset\n",
    "movies=pd.read_csv(r\"C:\\Users\\luoco\\Documents\\Personalisation-22-23\\data\\netflix_titles.csv\")\n",
    "#credits=pd.read_csv(r\"C:\\Users\\luoco\\Documents\\Personalisation-22-23\\data\\netflix_credits.csv\")"
   ]
  },
  {
   "cell_type": "code",
   "execution_count": 5,
   "id": "525f4060",
   "metadata": {},
   "outputs": [
    {
     "data": {
      "text/html": [
       "<div>\n",
       "<style scoped>\n",
       "    .dataframe tbody tr th:only-of-type {\n",
       "        vertical-align: middle;\n",
       "    }\n",
       "\n",
       "    .dataframe tbody tr th {\n",
       "        vertical-align: top;\n",
       "    }\n",
       "\n",
       "    .dataframe thead th {\n",
       "        text-align: right;\n",
       "    }\n",
       "</style>\n",
       "<table border=\"1\" class=\"dataframe\">\n",
       "  <thead>\n",
       "    <tr style=\"text-align: right;\">\n",
       "      <th></th>\n",
       "      <th>id</th>\n",
       "      <th>title</th>\n",
       "      <th>type</th>\n",
       "      <th>description</th>\n",
       "      <th>release_year</th>\n",
       "      <th>age_certification</th>\n",
       "      <th>runtime</th>\n",
       "      <th>genres</th>\n",
       "      <th>production_countries</th>\n",
       "      <th>seasons</th>\n",
       "      <th>imdb_id</th>\n",
       "      <th>imdb_score</th>\n",
       "      <th>imdb_votes</th>\n",
       "      <th>tmdb_popularity</th>\n",
       "      <th>tmdb_score</th>\n",
       "    </tr>\n",
       "  </thead>\n",
       "  <tbody>\n",
       "    <tr>\n",
       "      <th>0</th>\n",
       "      <td>ts300399</td>\n",
       "      <td>Five Came Back: The Reference Films</td>\n",
       "      <td>SHOW</td>\n",
       "      <td>This collection includes 12 World War II-era p...</td>\n",
       "      <td>1945</td>\n",
       "      <td>TV-MA</td>\n",
       "      <td>51</td>\n",
       "      <td>['documentation']</td>\n",
       "      <td>['US']</td>\n",
       "      <td>1.0</td>\n",
       "      <td>NaN</td>\n",
       "      <td>NaN</td>\n",
       "      <td>NaN</td>\n",
       "      <td>0.600</td>\n",
       "      <td>NaN</td>\n",
       "    </tr>\n",
       "    <tr>\n",
       "      <th>1</th>\n",
       "      <td>tm84618</td>\n",
       "      <td>Taxi Driver</td>\n",
       "      <td>MOVIE</td>\n",
       "      <td>A mentally unstable Vietnam War veteran works ...</td>\n",
       "      <td>1976</td>\n",
       "      <td>R</td>\n",
       "      <td>114</td>\n",
       "      <td>['drama', 'crime']</td>\n",
       "      <td>['US']</td>\n",
       "      <td>NaN</td>\n",
       "      <td>tt0075314</td>\n",
       "      <td>8.2</td>\n",
       "      <td>808582.0</td>\n",
       "      <td>40.965</td>\n",
       "      <td>8.179</td>\n",
       "    </tr>\n",
       "    <tr>\n",
       "      <th>2</th>\n",
       "      <td>tm154986</td>\n",
       "      <td>Deliverance</td>\n",
       "      <td>MOVIE</td>\n",
       "      <td>Intent on seeing the Cahulawassee River before...</td>\n",
       "      <td>1972</td>\n",
       "      <td>R</td>\n",
       "      <td>109</td>\n",
       "      <td>['drama', 'action', 'thriller', 'european']</td>\n",
       "      <td>['US']</td>\n",
       "      <td>NaN</td>\n",
       "      <td>tt0068473</td>\n",
       "      <td>7.7</td>\n",
       "      <td>107673.0</td>\n",
       "      <td>10.010</td>\n",
       "      <td>7.300</td>\n",
       "    </tr>\n",
       "    <tr>\n",
       "      <th>3</th>\n",
       "      <td>tm127384</td>\n",
       "      <td>Monty Python and the Holy Grail</td>\n",
       "      <td>MOVIE</td>\n",
       "      <td>King Arthur, accompanied by his squire, recrui...</td>\n",
       "      <td>1975</td>\n",
       "      <td>PG</td>\n",
       "      <td>91</td>\n",
       "      <td>['fantasy', 'action', 'comedy']</td>\n",
       "      <td>['GB']</td>\n",
       "      <td>NaN</td>\n",
       "      <td>tt0071853</td>\n",
       "      <td>8.2</td>\n",
       "      <td>534486.0</td>\n",
       "      <td>15.461</td>\n",
       "      <td>7.811</td>\n",
       "    </tr>\n",
       "    <tr>\n",
       "      <th>4</th>\n",
       "      <td>tm120801</td>\n",
       "      <td>The Dirty Dozen</td>\n",
       "      <td>MOVIE</td>\n",
       "      <td>12 American military prisoners in World War II...</td>\n",
       "      <td>1967</td>\n",
       "      <td>NaN</td>\n",
       "      <td>150</td>\n",
       "      <td>['war', 'action']</td>\n",
       "      <td>['GB', 'US']</td>\n",
       "      <td>NaN</td>\n",
       "      <td>tt0061578</td>\n",
       "      <td>7.7</td>\n",
       "      <td>72662.0</td>\n",
       "      <td>20.398</td>\n",
       "      <td>7.600</td>\n",
       "    </tr>\n",
       "    <tr>\n",
       "      <th>...</th>\n",
       "      <td>...</td>\n",
       "      <td>...</td>\n",
       "      <td>...</td>\n",
       "      <td>...</td>\n",
       "      <td>...</td>\n",
       "      <td>...</td>\n",
       "      <td>...</td>\n",
       "      <td>...</td>\n",
       "      <td>...</td>\n",
       "      <td>...</td>\n",
       "      <td>...</td>\n",
       "      <td>...</td>\n",
       "      <td>...</td>\n",
       "      <td>...</td>\n",
       "      <td>...</td>\n",
       "    </tr>\n",
       "    <tr>\n",
       "      <th>5845</th>\n",
       "      <td>tm1014599</td>\n",
       "      <td>Fine Wine</td>\n",
       "      <td>MOVIE</td>\n",
       "      <td>A beautiful love story that can happen between...</td>\n",
       "      <td>2021</td>\n",
       "      <td>NaN</td>\n",
       "      <td>100</td>\n",
       "      <td>['romance', 'drama']</td>\n",
       "      <td>['NG']</td>\n",
       "      <td>NaN</td>\n",
       "      <td>tt13857480</td>\n",
       "      <td>6.8</td>\n",
       "      <td>45.0</td>\n",
       "      <td>1.466</td>\n",
       "      <td>NaN</td>\n",
       "    </tr>\n",
       "    <tr>\n",
       "      <th>5846</th>\n",
       "      <td>tm898842</td>\n",
       "      <td>C/O Kaadhal</td>\n",
       "      <td>MOVIE</td>\n",
       "      <td>A heart warming film that explores the concept...</td>\n",
       "      <td>2021</td>\n",
       "      <td>NaN</td>\n",
       "      <td>134</td>\n",
       "      <td>['drama']</td>\n",
       "      <td>[]</td>\n",
       "      <td>NaN</td>\n",
       "      <td>tt11803618</td>\n",
       "      <td>7.7</td>\n",
       "      <td>348.0</td>\n",
       "      <td>NaN</td>\n",
       "      <td>NaN</td>\n",
       "    </tr>\n",
       "    <tr>\n",
       "      <th>5847</th>\n",
       "      <td>tm1059008</td>\n",
       "      <td>Lokillo</td>\n",
       "      <td>MOVIE</td>\n",
       "      <td>A controversial TV host and comedian who has b...</td>\n",
       "      <td>2021</td>\n",
       "      <td>NaN</td>\n",
       "      <td>90</td>\n",
       "      <td>['comedy']</td>\n",
       "      <td>['CO']</td>\n",
       "      <td>NaN</td>\n",
       "      <td>tt14585902</td>\n",
       "      <td>3.8</td>\n",
       "      <td>68.0</td>\n",
       "      <td>26.005</td>\n",
       "      <td>6.300</td>\n",
       "    </tr>\n",
       "    <tr>\n",
       "      <th>5848</th>\n",
       "      <td>tm1035612</td>\n",
       "      <td>Dad Stop Embarrassing Me - The Afterparty</td>\n",
       "      <td>MOVIE</td>\n",
       "      <td>Jamie Foxx, David Alan Grier and more from the...</td>\n",
       "      <td>2021</td>\n",
       "      <td>PG-13</td>\n",
       "      <td>37</td>\n",
       "      <td>[]</td>\n",
       "      <td>['US']</td>\n",
       "      <td>NaN</td>\n",
       "      <td>NaN</td>\n",
       "      <td>NaN</td>\n",
       "      <td>NaN</td>\n",
       "      <td>1.296</td>\n",
       "      <td>10.000</td>\n",
       "    </tr>\n",
       "    <tr>\n",
       "      <th>5849</th>\n",
       "      <td>ts271048</td>\n",
       "      <td>Mighty Little Bheem: Kite Festival</td>\n",
       "      <td>SHOW</td>\n",
       "      <td>With winter behind them, Bheem and his townspe...</td>\n",
       "      <td>2021</td>\n",
       "      <td>NaN</td>\n",
       "      <td>7</td>\n",
       "      <td>['family', 'animation', 'comedy']</td>\n",
       "      <td>[]</td>\n",
       "      <td>1.0</td>\n",
       "      <td>tt13711094</td>\n",
       "      <td>7.8</td>\n",
       "      <td>18.0</td>\n",
       "      <td>2.289</td>\n",
       "      <td>10.000</td>\n",
       "    </tr>\n",
       "  </tbody>\n",
       "</table>\n",
       "<p>5850 rows × 15 columns</p>\n",
       "</div>"
      ],
      "text/plain": [
       "             id                                      title   type  \\\n",
       "0      ts300399        Five Came Back: The Reference Films   SHOW   \n",
       "1       tm84618                                Taxi Driver  MOVIE   \n",
       "2      tm154986                                Deliverance  MOVIE   \n",
       "3      tm127384            Monty Python and the Holy Grail  MOVIE   \n",
       "4      tm120801                            The Dirty Dozen  MOVIE   \n",
       "...         ...                                        ...    ...   \n",
       "5845  tm1014599                                  Fine Wine  MOVIE   \n",
       "5846   tm898842                                C/O Kaadhal  MOVIE   \n",
       "5847  tm1059008                                    Lokillo  MOVIE   \n",
       "5848  tm1035612  Dad Stop Embarrassing Me - The Afterparty  MOVIE   \n",
       "5849   ts271048         Mighty Little Bheem: Kite Festival   SHOW   \n",
       "\n",
       "                                            description  release_year  \\\n",
       "0     This collection includes 12 World War II-era p...          1945   \n",
       "1     A mentally unstable Vietnam War veteran works ...          1976   \n",
       "2     Intent on seeing the Cahulawassee River before...          1972   \n",
       "3     King Arthur, accompanied by his squire, recrui...          1975   \n",
       "4     12 American military prisoners in World War II...          1967   \n",
       "...                                                 ...           ...   \n",
       "5845  A beautiful love story that can happen between...          2021   \n",
       "5846  A heart warming film that explores the concept...          2021   \n",
       "5847  A controversial TV host and comedian who has b...          2021   \n",
       "5848  Jamie Foxx, David Alan Grier and more from the...          2021   \n",
       "5849  With winter behind them, Bheem and his townspe...          2021   \n",
       "\n",
       "     age_certification  runtime                                       genres  \\\n",
       "0                TV-MA       51                            ['documentation']   \n",
       "1                    R      114                           ['drama', 'crime']   \n",
       "2                    R      109  ['drama', 'action', 'thriller', 'european']   \n",
       "3                   PG       91              ['fantasy', 'action', 'comedy']   \n",
       "4                  NaN      150                            ['war', 'action']   \n",
       "...                ...      ...                                          ...   \n",
       "5845               NaN      100                         ['romance', 'drama']   \n",
       "5846               NaN      134                                    ['drama']   \n",
       "5847               NaN       90                                   ['comedy']   \n",
       "5848             PG-13       37                                           []   \n",
       "5849               NaN        7            ['family', 'animation', 'comedy']   \n",
       "\n",
       "     production_countries  seasons     imdb_id  imdb_score  imdb_votes  \\\n",
       "0                  ['US']      1.0         NaN         NaN         NaN   \n",
       "1                  ['US']      NaN   tt0075314         8.2    808582.0   \n",
       "2                  ['US']      NaN   tt0068473         7.7    107673.0   \n",
       "3                  ['GB']      NaN   tt0071853         8.2    534486.0   \n",
       "4            ['GB', 'US']      NaN   tt0061578         7.7     72662.0   \n",
       "...                   ...      ...         ...         ...         ...   \n",
       "5845               ['NG']      NaN  tt13857480         6.8        45.0   \n",
       "5846                   []      NaN  tt11803618         7.7       348.0   \n",
       "5847               ['CO']      NaN  tt14585902         3.8        68.0   \n",
       "5848               ['US']      NaN         NaN         NaN         NaN   \n",
       "5849                   []      1.0  tt13711094         7.8        18.0   \n",
       "\n",
       "      tmdb_popularity  tmdb_score  \n",
       "0               0.600         NaN  \n",
       "1              40.965       8.179  \n",
       "2              10.010       7.300  \n",
       "3              15.461       7.811  \n",
       "4              20.398       7.600  \n",
       "...               ...         ...  \n",
       "5845            1.466         NaN  \n",
       "5846              NaN         NaN  \n",
       "5847           26.005       6.300  \n",
       "5848            1.296      10.000  \n",
       "5849            2.289      10.000  \n",
       "\n",
       "[5850 rows x 15 columns]"
      ]
     },
     "execution_count": 5,
     "metadata": {},
     "output_type": "execute_result"
    }
   ],
   "source": [
    "movies\n",
    "#'movies' is movies and shows.\n",
    "#having looked at the credits file correlated to the movies, it is not needed to work with."
   ]
  },
  {
   "cell_type": "code",
   "execution_count": 6,
   "id": "bd1ca479",
   "metadata": {},
   "outputs": [
    {
     "data": {
      "text/plain": [
       "(5850, 15)"
      ]
     },
     "execution_count": 6,
     "metadata": {},
     "output_type": "execute_result"
    }
   ],
   "source": [
    "movies.shape"
   ]
  },
  {
   "cell_type": "code",
   "execution_count": 7,
   "id": "c2dafb64",
   "metadata": {},
   "outputs": [
    {
     "data": {
      "text/plain": [
       "Index(['id', 'title', 'type', 'description', 'release_year',\n",
       "       'age_certification', 'runtime', 'genres', 'production_countries',\n",
       "       'seasons', 'imdb_id', 'imdb_score', 'imdb_votes', 'tmdb_popularity',\n",
       "       'tmdb_score'],\n",
       "      dtype='object')"
      ]
     },
     "execution_count": 7,
     "metadata": {},
     "output_type": "execute_result"
    }
   ],
   "source": [
    "movies.columns"
   ]
  },
  {
   "cell_type": "code",
   "execution_count": 8,
   "id": "dacdcf80",
   "metadata": {},
   "outputs": [
    {
     "data": {
      "text/plain": [
       "id                         0\n",
       "title                      1\n",
       "type                       0\n",
       "description               18\n",
       "release_year               0\n",
       "age_certification       2619\n",
       "runtime                    0\n",
       "genres                     0\n",
       "production_countries       0\n",
       "seasons                 3744\n",
       "imdb_id                  403\n",
       "imdb_score               482\n",
       "imdb_votes               498\n",
       "tmdb_popularity           91\n",
       "tmdb_score               311\n",
       "dtype: int64"
      ]
     },
     "execution_count": 8,
     "metadata": {},
     "output_type": "execute_result"
    }
   ],
   "source": [
    "#check for null/nan values\n",
    "movies.isnull().sum()"
   ]
  },
  {
   "cell_type": "code",
   "execution_count": 9,
   "id": "8caec865",
   "metadata": {},
   "outputs": [],
   "source": [
    "#I don't want to just drop all of the Nan values straight away because then I'll lose data.\n",
    "# all the columns with a scoring system I will change to 0, then drop the rest.\n",
    "\n",
    "movies['imdb_score'] = movies['imdb_score'].fillna(0)\n",
    "movies['imdb_votes'] = movies['imdb_votes'].fillna(0)\n",
    "movies['tmdb_popularity'] = movies['tmdb_popularity'].fillna(0)\n",
    "movies['tmdb_score'] = movies['tmdb_score'].fillna(0)"
   ]
  },
  {
   "cell_type": "code",
   "execution_count": 10,
   "id": "fab8095c",
   "metadata": {},
   "outputs": [
    {
     "data": {
      "text/plain": [
       "id                         0\n",
       "title                      1\n",
       "type                       0\n",
       "description               18\n",
       "release_year               0\n",
       "age_certification       2619\n",
       "runtime                    0\n",
       "genres                     0\n",
       "production_countries       0\n",
       "seasons                 3744\n",
       "imdb_id                  403\n",
       "imdb_score                 0\n",
       "imdb_votes                 0\n",
       "tmdb_popularity            0\n",
       "tmdb_score                 0\n",
       "dtype: int64"
      ]
     },
     "execution_count": 10,
     "metadata": {},
     "output_type": "execute_result"
    }
   ],
   "source": [
    "#check again for null/nan values\n",
    "movies.isnull().sum()"
   ]
  },
  {
   "cell_type": "code",
   "execution_count": 11,
   "id": "c351e3f5",
   "metadata": {},
   "outputs": [
    {
     "data": {
      "text/html": [
       "<div>\n",
       "<style scoped>\n",
       "    .dataframe tbody tr th:only-of-type {\n",
       "        vertical-align: middle;\n",
       "    }\n",
       "\n",
       "    .dataframe tbody tr th {\n",
       "        vertical-align: top;\n",
       "    }\n",
       "\n",
       "    .dataframe thead th {\n",
       "        text-align: right;\n",
       "    }\n",
       "</style>\n",
       "<table border=\"1\" class=\"dataframe\">\n",
       "  <thead>\n",
       "    <tr style=\"text-align: right;\">\n",
       "      <th></th>\n",
       "      <th>id</th>\n",
       "      <th>title</th>\n",
       "      <th>type</th>\n",
       "      <th>description</th>\n",
       "      <th>release_year</th>\n",
       "      <th>runtime</th>\n",
       "      <th>genres</th>\n",
       "      <th>production_countries</th>\n",
       "      <th>imdb_score</th>\n",
       "      <th>imdb_votes</th>\n",
       "      <th>tmdb_popularity</th>\n",
       "      <th>tmdb_score</th>\n",
       "    </tr>\n",
       "  </thead>\n",
       "  <tbody>\n",
       "    <tr>\n",
       "      <th>0</th>\n",
       "      <td>ts300399</td>\n",
       "      <td>Five Came Back: The Reference Films</td>\n",
       "      <td>SHOW</td>\n",
       "      <td>This collection includes 12 World War II-era p...</td>\n",
       "      <td>1945</td>\n",
       "      <td>51</td>\n",
       "      <td>['documentation']</td>\n",
       "      <td>['US']</td>\n",
       "      <td>0.0</td>\n",
       "      <td>0.0</td>\n",
       "      <td>0.600</td>\n",
       "      <td>0.000</td>\n",
       "    </tr>\n",
       "    <tr>\n",
       "      <th>1</th>\n",
       "      <td>tm84618</td>\n",
       "      <td>Taxi Driver</td>\n",
       "      <td>MOVIE</td>\n",
       "      <td>A mentally unstable Vietnam War veteran works ...</td>\n",
       "      <td>1976</td>\n",
       "      <td>114</td>\n",
       "      <td>['drama', 'crime']</td>\n",
       "      <td>['US']</td>\n",
       "      <td>8.2</td>\n",
       "      <td>808582.0</td>\n",
       "      <td>40.965</td>\n",
       "      <td>8.179</td>\n",
       "    </tr>\n",
       "    <tr>\n",
       "      <th>2</th>\n",
       "      <td>tm154986</td>\n",
       "      <td>Deliverance</td>\n",
       "      <td>MOVIE</td>\n",
       "      <td>Intent on seeing the Cahulawassee River before...</td>\n",
       "      <td>1972</td>\n",
       "      <td>109</td>\n",
       "      <td>['drama', 'action', 'thriller', 'european']</td>\n",
       "      <td>['US']</td>\n",
       "      <td>7.7</td>\n",
       "      <td>107673.0</td>\n",
       "      <td>10.010</td>\n",
       "      <td>7.300</td>\n",
       "    </tr>\n",
       "    <tr>\n",
       "      <th>3</th>\n",
       "      <td>tm127384</td>\n",
       "      <td>Monty Python and the Holy Grail</td>\n",
       "      <td>MOVIE</td>\n",
       "      <td>King Arthur, accompanied by his squire, recrui...</td>\n",
       "      <td>1975</td>\n",
       "      <td>91</td>\n",
       "      <td>['fantasy', 'action', 'comedy']</td>\n",
       "      <td>['GB']</td>\n",
       "      <td>8.2</td>\n",
       "      <td>534486.0</td>\n",
       "      <td>15.461</td>\n",
       "      <td>7.811</td>\n",
       "    </tr>\n",
       "    <tr>\n",
       "      <th>4</th>\n",
       "      <td>tm120801</td>\n",
       "      <td>The Dirty Dozen</td>\n",
       "      <td>MOVIE</td>\n",
       "      <td>12 American military prisoners in World War II...</td>\n",
       "      <td>1967</td>\n",
       "      <td>150</td>\n",
       "      <td>['war', 'action']</td>\n",
       "      <td>['GB', 'US']</td>\n",
       "      <td>7.7</td>\n",
       "      <td>72662.0</td>\n",
       "      <td>20.398</td>\n",
       "      <td>7.600</td>\n",
       "    </tr>\n",
       "    <tr>\n",
       "      <th>...</th>\n",
       "      <td>...</td>\n",
       "      <td>...</td>\n",
       "      <td>...</td>\n",
       "      <td>...</td>\n",
       "      <td>...</td>\n",
       "      <td>...</td>\n",
       "      <td>...</td>\n",
       "      <td>...</td>\n",
       "      <td>...</td>\n",
       "      <td>...</td>\n",
       "      <td>...</td>\n",
       "      <td>...</td>\n",
       "    </tr>\n",
       "    <tr>\n",
       "      <th>5845</th>\n",
       "      <td>tm1014599</td>\n",
       "      <td>Fine Wine</td>\n",
       "      <td>MOVIE</td>\n",
       "      <td>A beautiful love story that can happen between...</td>\n",
       "      <td>2021</td>\n",
       "      <td>100</td>\n",
       "      <td>['romance', 'drama']</td>\n",
       "      <td>['NG']</td>\n",
       "      <td>6.8</td>\n",
       "      <td>45.0</td>\n",
       "      <td>1.466</td>\n",
       "      <td>0.000</td>\n",
       "    </tr>\n",
       "    <tr>\n",
       "      <th>5846</th>\n",
       "      <td>tm898842</td>\n",
       "      <td>C/O Kaadhal</td>\n",
       "      <td>MOVIE</td>\n",
       "      <td>A heart warming film that explores the concept...</td>\n",
       "      <td>2021</td>\n",
       "      <td>134</td>\n",
       "      <td>['drama']</td>\n",
       "      <td>[]</td>\n",
       "      <td>7.7</td>\n",
       "      <td>348.0</td>\n",
       "      <td>0.000</td>\n",
       "      <td>0.000</td>\n",
       "    </tr>\n",
       "    <tr>\n",
       "      <th>5847</th>\n",
       "      <td>tm1059008</td>\n",
       "      <td>Lokillo</td>\n",
       "      <td>MOVIE</td>\n",
       "      <td>A controversial TV host and comedian who has b...</td>\n",
       "      <td>2021</td>\n",
       "      <td>90</td>\n",
       "      <td>['comedy']</td>\n",
       "      <td>['CO']</td>\n",
       "      <td>3.8</td>\n",
       "      <td>68.0</td>\n",
       "      <td>26.005</td>\n",
       "      <td>6.300</td>\n",
       "    </tr>\n",
       "    <tr>\n",
       "      <th>5848</th>\n",
       "      <td>tm1035612</td>\n",
       "      <td>Dad Stop Embarrassing Me - The Afterparty</td>\n",
       "      <td>MOVIE</td>\n",
       "      <td>Jamie Foxx, David Alan Grier and more from the...</td>\n",
       "      <td>2021</td>\n",
       "      <td>37</td>\n",
       "      <td>[]</td>\n",
       "      <td>['US']</td>\n",
       "      <td>0.0</td>\n",
       "      <td>0.0</td>\n",
       "      <td>1.296</td>\n",
       "      <td>10.000</td>\n",
       "    </tr>\n",
       "    <tr>\n",
       "      <th>5849</th>\n",
       "      <td>ts271048</td>\n",
       "      <td>Mighty Little Bheem: Kite Festival</td>\n",
       "      <td>SHOW</td>\n",
       "      <td>With winter behind them, Bheem and his townspe...</td>\n",
       "      <td>2021</td>\n",
       "      <td>7</td>\n",
       "      <td>['family', 'animation', 'comedy']</td>\n",
       "      <td>[]</td>\n",
       "      <td>7.8</td>\n",
       "      <td>18.0</td>\n",
       "      <td>2.289</td>\n",
       "      <td>10.000</td>\n",
       "    </tr>\n",
       "  </tbody>\n",
       "</table>\n",
       "<p>5850 rows × 12 columns</p>\n",
       "</div>"
      ],
      "text/plain": [
       "             id                                      title   type  \\\n",
       "0      ts300399        Five Came Back: The Reference Films   SHOW   \n",
       "1       tm84618                                Taxi Driver  MOVIE   \n",
       "2      tm154986                                Deliverance  MOVIE   \n",
       "3      tm127384            Monty Python and the Holy Grail  MOVIE   \n",
       "4      tm120801                            The Dirty Dozen  MOVIE   \n",
       "...         ...                                        ...    ...   \n",
       "5845  tm1014599                                  Fine Wine  MOVIE   \n",
       "5846   tm898842                                C/O Kaadhal  MOVIE   \n",
       "5847  tm1059008                                    Lokillo  MOVIE   \n",
       "5848  tm1035612  Dad Stop Embarrassing Me - The Afterparty  MOVIE   \n",
       "5849   ts271048         Mighty Little Bheem: Kite Festival   SHOW   \n",
       "\n",
       "                                            description  release_year  \\\n",
       "0     This collection includes 12 World War II-era p...          1945   \n",
       "1     A mentally unstable Vietnam War veteran works ...          1976   \n",
       "2     Intent on seeing the Cahulawassee River before...          1972   \n",
       "3     King Arthur, accompanied by his squire, recrui...          1975   \n",
       "4     12 American military prisoners in World War II...          1967   \n",
       "...                                                 ...           ...   \n",
       "5845  A beautiful love story that can happen between...          2021   \n",
       "5846  A heart warming film that explores the concept...          2021   \n",
       "5847  A controversial TV host and comedian who has b...          2021   \n",
       "5848  Jamie Foxx, David Alan Grier and more from the...          2021   \n",
       "5849  With winter behind them, Bheem and his townspe...          2021   \n",
       "\n",
       "      runtime                                       genres  \\\n",
       "0          51                            ['documentation']   \n",
       "1         114                           ['drama', 'crime']   \n",
       "2         109  ['drama', 'action', 'thriller', 'european']   \n",
       "3          91              ['fantasy', 'action', 'comedy']   \n",
       "4         150                            ['war', 'action']   \n",
       "...       ...                                          ...   \n",
       "5845      100                         ['romance', 'drama']   \n",
       "5846      134                                    ['drama']   \n",
       "5847       90                                   ['comedy']   \n",
       "5848       37                                           []   \n",
       "5849        7            ['family', 'animation', 'comedy']   \n",
       "\n",
       "     production_countries  imdb_score  imdb_votes  tmdb_popularity  tmdb_score  \n",
       "0                  ['US']         0.0         0.0            0.600       0.000  \n",
       "1                  ['US']         8.2    808582.0           40.965       8.179  \n",
       "2                  ['US']         7.7    107673.0           10.010       7.300  \n",
       "3                  ['GB']         8.2    534486.0           15.461       7.811  \n",
       "4            ['GB', 'US']         7.7     72662.0           20.398       7.600  \n",
       "...                   ...         ...         ...              ...         ...  \n",
       "5845               ['NG']         6.8        45.0            1.466       0.000  \n",
       "5846                   []         7.7       348.0            0.000       0.000  \n",
       "5847               ['CO']         3.8        68.0           26.005       6.300  \n",
       "5848               ['US']         0.0         0.0            1.296      10.000  \n",
       "5849                   []         7.8        18.0            2.289      10.000  \n",
       "\n",
       "[5850 rows x 12 columns]"
      ]
     },
     "execution_count": 11,
     "metadata": {},
     "output_type": "execute_result"
    }
   ],
   "source": [
    "# lets drop some columns to retain data elsewhere\n",
    "movies.drop(['age_certification','seasons', 'imdb_id'], axis=1)"
   ]
  },
  {
   "cell_type": "code",
   "execution_count": 12,
   "id": "86b9ca73",
   "metadata": {},
   "outputs": [],
   "source": [
    "movies['genres'] = movies['genres'].str.strip('[]').str.replace(' ','').str.replace(\"'\",'')\n",
    "movies['genres'] = movies['genres'].str.split(',')"
   ]
  },
  {
   "cell_type": "code",
   "execution_count": 13,
   "id": "82a4ad99",
   "metadata": {},
   "outputs": [
    {
     "name": "stdout",
     "output_type": "stream",
     "text": [
      "<bound method Series.unique of 0        SHOW\n",
      "1       MOVIE\n",
      "2       MOVIE\n",
      "3       MOVIE\n",
      "4       MOVIE\n",
      "        ...  \n",
      "5845    MOVIE\n",
      "5846    MOVIE\n",
      "5847    MOVIE\n",
      "5848    MOVIE\n",
      "5849     SHOW\n",
      "Name: type, Length: 5850, dtype: object>\n"
     ]
    }
   ],
   "source": [
    "print(movies['type'].unique)"
   ]
  },
  {
   "cell_type": "code",
   "execution_count": 14,
   "id": "a6071d25",
   "metadata": {},
   "outputs": [
    {
     "data": {
      "text/plain": [
       "id                         0\n",
       "title                      1\n",
       "type                       0\n",
       "description               18\n",
       "release_year               0\n",
       "age_certification       2619\n",
       "runtime                    0\n",
       "genres                     0\n",
       "production_countries       0\n",
       "seasons                 3744\n",
       "imdb_id                  403\n",
       "imdb_score                 0\n",
       "imdb_votes                 0\n",
       "tmdb_popularity            0\n",
       "tmdb_score                 0\n",
       "dtype: int64"
      ]
     },
     "execution_count": 14,
     "metadata": {},
     "output_type": "execute_result"
    }
   ],
   "source": [
    "#check once more for null/nan values\n",
    "movies.isnull().sum()"
   ]
  },
  {
   "cell_type": "code",
   "execution_count": 15,
   "id": "3c94286f",
   "metadata": {},
   "outputs": [],
   "source": [
    "movies = movies.dropna()\n",
    "#leaves us with 1749 shows or movies"
   ]
  },
  {
   "cell_type": "code",
   "execution_count": 16,
   "id": "d3111ff9",
   "metadata": {},
   "outputs": [
    {
     "data": {
      "image/png": "[encoded data removed]",
      "text/plain": [
       "<Figure size 1200x1000 with 1 Axes>"
      ]
     },
     "metadata": {},
     "output_type": "display_data"
    }
   ],
   "source": [
    "import seaborn as sns\n",
    "\n",
    "plt.subplots(figsize=(12,10))\n",
    "list1 = []\n",
    "for i in movies['genres']:\n",
    "    list1.extend(i)\n",
    "ax = pd.Series(list1).value_counts()[:10].sort_values(ascending=True).plot.barh(width=0.9,color=sns.color_palette('hls',10))\n",
    "for i, v in enumerate(pd.Series(list1).value_counts()[:10].sort_values(ascending=True).values): \n",
    "    ax.text(.8, i, v,fontsize=12,color='white',weight='bold')\n",
    "plt.title('Top Genres')\n",
    "plt.show()"
   ]
  },
  {
   "cell_type": "code",
   "execution_count": 17,
   "id": "9f8029f9",
   "metadata": {},
   "outputs": [
    {
     "name": "stderr",
     "output_type": "stream",
     "text": [
      "C:\\Users\\luoco\\AppData\\Local\\Temp\\ipykernel_5264\\1469821455.py:6: SettingWithCopyWarning: \n",
      "A value is trying to be set on a copy of a slice from a DataFrame.\n",
      "Try using .loc[row_indexer,col_indexer] = value instead\n",
      "\n",
      "See the caveats in the documentation: https://pandas.pydata.org/pandas-docs/stable/user_guide/indexing.html#returning-a-view-versus-a-copy\n",
      "  movies['genres'] = movies['genres'].str.strip('[]').str.replace(' ','').str.replace(\"'\",'')\n",
      "C:\\Users\\luoco\\AppData\\Local\\Temp\\ipykernel_5264\\1469821455.py:7: SettingWithCopyWarning: \n",
      "A value is trying to be set on a copy of a slice from a DataFrame.\n",
      "Try using .loc[row_indexer,col_indexer] = value instead\n",
      "\n",
      "See the caveats in the documentation: https://pandas.pydata.org/pandas-docs/stable/user_guide/indexing.html#returning-a-view-versus-a-copy\n",
      "  movies['genres'] = movies['genres'].str.split(',')\n"
     ]
    }
   ],
   "source": [
    "for i,j in zip(movies['genres'],movies.index):\n",
    "    list2=[]\n",
    "    list2=i\n",
    "    list2.sort()\n",
    "    movies.loc[j,'genres']=str(list2)\n",
    "movies['genres'] = movies['genres'].str.strip('[]').str.replace(' ','').str.replace(\"'\",'')\n",
    "movies['genres'] = movies['genres'].str.split(',')"
   ]
  },
  {
   "cell_type": "code",
   "execution_count": 18,
   "id": "afb37377",
   "metadata": {},
   "outputs": [
    {
     "data": {
      "text/plain": [
       "['comedy',\n",
       " 'european',\n",
       " 'action',\n",
       " 'crime',\n",
       " 'drama',\n",
       " 'scifi',\n",
       " 'animation',\n",
       " 'family',\n",
       " 'fantasy',\n",
       " 'music',\n",
       " 'romance',\n",
       " 'reality',\n",
       " 'thriller',\n",
       " 'western',\n",
       " 'horror',\n",
       " 'sport',\n",
       " 'documentation',\n",
       " 'war',\n",
       " 'history']"
      ]
     },
     "execution_count": 18,
     "metadata": {},
     "output_type": "execute_result"
    }
   ],
   "source": [
    "genreList = []\n",
    "for index, row in movies.iterrows():\n",
    "    genres = row[\"genres\"]\n",
    "    \n",
    "    for genre in genres:\n",
    "        if genre not in genreList:\n",
    "            genreList.append(genre)\n",
    "genreList[:19]\n",
    "\n",
    "#this producesa  list of all of the unique genres in the dataset\n",
    "\n",
    "#playing with the value in 'genreList[:20]' allows me to see all of the possible unique genres.\n",
    "# beyond 20 does not produce any more unique genres."
   ]
  },
  {
   "cell_type": "code",
   "execution_count": 19,
   "id": "c6c3c695",
   "metadata": {},
   "outputs": [],
   "source": [
    "def binary(genre_list):\n",
    "    binaryList = []\n",
    "    \n",
    "    for genre in genreList:\n",
    "        if genre in genre_list:\n",
    "            binaryList.append(1)\n",
    "        else:\n",
    "            binaryList.append(0)\n",
    "    \n",
    "    return binaryList"
   ]
  },
  {
   "cell_type": "markdown",
   "id": "0048e399",
   "metadata": {},
   "source": [
    "## Using One Hot Encoding\n",
    "The following code will represent the genres as a feature vecture that we can use for a recommender. "
   ]
  },
  {
   "cell_type": "code",
   "execution_count": 20,
   "id": "4b783534",
   "metadata": {},
   "outputs": [
    {
     "name": "stderr",
     "output_type": "stream",
     "text": [
      "C:\\Users\\luoco\\AppData\\Local\\Temp\\ipykernel_5264\\4265422500.py:1: SettingWithCopyWarning: \n",
      "A value is trying to be set on a copy of a slice from a DataFrame.\n",
      "Try using .loc[row_indexer,col_indexer] = value instead\n",
      "\n",
      "See the caveats in the documentation: https://pandas.pydata.org/pandas-docs/stable/user_guide/indexing.html#returning-a-view-versus-a-copy\n",
      "  movies['genres_bin'] = movies['genres'].apply(lambda x: binary(x))\n"
     ]
    },
    {
     "data": {
      "text/plain": [
       "5     [1, 1, 0, 0, 0, 0, 0, 0, 0, 0, 0, 0, 0, 0, 0, ...\n",
       "26    [1, 0, 0, 0, 0, 0, 0, 0, 0, 0, 0, 0, 0, 0, 0, ...\n",
       "35    [1, 0, 0, 0, 0, 0, 0, 0, 0, 0, 0, 0, 0, 0, 0, ...\n",
       "44    [0, 0, 1, 1, 1, 1, 0, 0, 0, 0, 0, 0, 0, 0, 0, ...\n",
       "45    [1, 0, 1, 0, 1, 0, 1, 1, 1, 1, 0, 0, 0, 0, 0, ...\n",
       "Name: genres_bin, dtype: object"
      ]
     },
     "execution_count": 20,
     "metadata": {},
     "output_type": "execute_result"
    }
   ],
   "source": [
    "movies['genres_bin'] = movies['genres'].apply(lambda x: binary(x))\n",
    "movies['genres_bin'].head()"
   ]
  },
  {
   "cell_type": "code",
   "execution_count": 21,
   "id": "614294ff",
   "metadata": {},
   "outputs": [],
   "source": [
    "from scipy import spatial\n",
    "\n",
    "def Similarity(movieId1, movieId2):        # taking the id code of one movie and another movie to get the similarity\n",
    "    a = movies.iloc[movieId1]              #.iloc => is integer location\n",
    "    b = movies.iloc[movieId2]\n",
    "    \n",
    "    genresA = a['genres_bin']\n",
    "    genresB = b['genres_bin']\n",
    "    \n",
    "    genreDistance = spatial.distance.cosine(genresA, genresB)\n",
    "    return genreDistance   "
   ]
  },
  {
   "cell_type": "code",
   "execution_count": 22,
   "id": "454bd564",
   "metadata": {},
   "outputs": [
    {
     "data": {
      "text/plain": [
       "1.0"
      ]
     },
     "execution_count": 22,
     "metadata": {},
     "output_type": "execute_result"
    }
   ],
   "source": [
    "Similarity(1, 50) #checking similarity between any 2 random movies, of number 1 and number 50"
   ]
  },
  {
   "cell_type": "code",
   "execution_count": 23,
   "id": "ad07b7e4",
   "metadata": {},
   "outputs": [
    {
     "name": "stdout",
     "output_type": "stream",
     "text": [
      "id                                                                ts45948\n",
      "title                                    Monty Python's Fliegender Zirkus\n",
      "type                                                                 SHOW\n",
      "description             Monty Python's Fliegender Zirkus consisted of ...\n",
      "release_year                                                         1972\n",
      "age_certification                                                   TV-MA\n",
      "runtime                                                                43\n",
      "genres                                                           [comedy]\n",
      "production_countries                                                   []\n",
      "seasons                                                               1.0\n",
      "imdb_id                                                         tt0202477\n",
      "imdb_score                                                            8.1\n",
      "imdb_votes                                                         2151.0\n",
      "tmdb_popularity                                                     1.487\n",
      "tmdb_score                                                            7.0\n",
      "genres_bin              [1, 0, 0, 0, 0, 0, 0, 0, 0, 0, 0, 0, 0, 0, 0, ...\n",
      "Name: 26, dtype: object\n",
      "id                                                                 ts3371\n",
      "title                                          Avatar: The Last Airbender\n",
      "type                                                                 SHOW\n",
      "description             In a war-torn world of elemental magic, a youn...\n",
      "release_year                                                         2005\n",
      "age_certification                                                   TV-Y7\n",
      "runtime                                                                24\n",
      "genres                        [action, animation, family, fantasy, scifi]\n",
      "production_countries                                               ['US']\n",
      "seasons                                                               3.0\n",
      "imdb_id                                                         tt0417299\n",
      "imdb_score                                                            9.3\n",
      "imdb_votes                                                       303666.0\n",
      "tmdb_popularity                                                    56.915\n",
      "tmdb_score                                                            8.7\n",
      "genres_bin              [0, 0, 1, 0, 0, 1, 1, 1, 1, 0, 0, 0, 0, 0, 0, ...\n",
      "Name: 233, dtype: object\n"
     ]
    }
   ],
   "source": [
    "print(movies.iloc[1])\n",
    "print(movies.iloc[50])\n",
    "\n",
    "##printing the details of both for comparison"
   ]
  },
  {
   "cell_type": "code",
   "execution_count": 24,
   "id": "78df31b0",
   "metadata": {},
   "outputs": [
    {
     "name": "stderr",
     "output_type": "stream",
     "text": [
      "C:\\Users\\luoco\\AppData\\Local\\Temp\\ipykernel_5264\\2373966413.py:2: SettingWithCopyWarning: \n",
      "A value is trying to be set on a copy of a slice from a DataFrame.\n",
      "Try using .loc[row_indexer,col_indexer] = value instead\n",
      "\n",
      "See the caveats in the documentation: https://pandas.pydata.org/pandas-docs/stable/user_guide/indexing.html#returning-a-view-versus-a-copy\n",
      "  movies['new_id'] = new_id\n"
     ]
    },
    {
     "data": {
      "text/html": [
       "<div>\n",
       "<style scoped>\n",
       "    .dataframe tbody tr th:only-of-type {\n",
       "        vertical-align: middle;\n",
       "    }\n",
       "\n",
       "    .dataframe tbody tr th {\n",
       "        vertical-align: top;\n",
       "    }\n",
       "\n",
       "    .dataframe thead th {\n",
       "        text-align: right;\n",
       "    }\n",
       "</style>\n",
       "<table border=\"1\" class=\"dataframe\">\n",
       "  <thead>\n",
       "    <tr style=\"text-align: right;\">\n",
       "      <th></th>\n",
       "      <th>title</th>\n",
       "      <th>genres</th>\n",
       "      <th>imdb_score</th>\n",
       "      <th>genres_bin</th>\n",
       "      <th>new_id</th>\n",
       "    </tr>\n",
       "  </thead>\n",
       "  <tbody>\n",
       "    <tr>\n",
       "      <th>5</th>\n",
       "      <td>Monty Python's Flying Circus</td>\n",
       "      <td>[comedy, european]</td>\n",
       "      <td>8.8</td>\n",
       "      <td>[1, 1, 0, 0, 0, 0, 0, 0, 0, 0, 0, 0, 0, 0, 0, ...</td>\n",
       "      <td>0</td>\n",
       "    </tr>\n",
       "    <tr>\n",
       "      <th>26</th>\n",
       "      <td>Monty Python's Fliegender Zirkus</td>\n",
       "      <td>[comedy]</td>\n",
       "      <td>8.1</td>\n",
       "      <td>[1, 0, 0, 0, 0, 0, 0, 0, 0, 0, 0, 0, 0, 0, 0, ...</td>\n",
       "      <td>1</td>\n",
       "    </tr>\n",
       "    <tr>\n",
       "      <th>35</th>\n",
       "      <td>Seinfeld</td>\n",
       "      <td>[comedy]</td>\n",
       "      <td>8.9</td>\n",
       "      <td>[1, 0, 0, 0, 0, 0, 0, 0, 0, 0, 0, 0, 0, 0, 0, ...</td>\n",
       "      <td>2</td>\n",
       "    </tr>\n",
       "    <tr>\n",
       "      <th>44</th>\n",
       "      <td>Knight Rider</td>\n",
       "      <td>[action, crime, drama, scifi]</td>\n",
       "      <td>6.9</td>\n",
       "      <td>[0, 0, 1, 1, 1, 1, 0, 0, 0, 0, 0, 0, 0, 0, 0, ...</td>\n",
       "      <td>3</td>\n",
       "    </tr>\n",
       "    <tr>\n",
       "      <th>45</th>\n",
       "      <td>Thomas &amp; Friends</td>\n",
       "      <td>[action, animation, comedy, drama, family, fan...</td>\n",
       "      <td>6.5</td>\n",
       "      <td>[1, 0, 1, 0, 1, 0, 1, 1, 1, 1, 0, 0, 0, 0, 0, ...</td>\n",
       "      <td>4</td>\n",
       "    </tr>\n",
       "  </tbody>\n",
       "</table>\n",
       "</div>"
      ],
      "text/plain": [
       "                               title  \\\n",
       "5       Monty Python's Flying Circus   \n",
       "26  Monty Python's Fliegender Zirkus   \n",
       "35                          Seinfeld   \n",
       "44                      Knight Rider   \n",
       "45                  Thomas & Friends   \n",
       "\n",
       "                                               genres  imdb_score  \\\n",
       "5                                  [comedy, european]         8.8   \n",
       "26                                           [comedy]         8.1   \n",
       "35                                           [comedy]         8.9   \n",
       "44                      [action, crime, drama, scifi]         6.9   \n",
       "45  [action, animation, comedy, drama, family, fan...         6.5   \n",
       "\n",
       "                                           genres_bin  new_id  \n",
       "5   [1, 1, 0, 0, 0, 0, 0, 0, 0, 0, 0, 0, 0, 0, 0, ...       0  \n",
       "26  [1, 0, 0, 0, 0, 0, 0, 0, 0, 0, 0, 0, 0, 0, 0, ...       1  \n",
       "35  [1, 0, 0, 0, 0, 0, 0, 0, 0, 0, 0, 0, 0, 0, 0, ...       2  \n",
       "44  [0, 0, 1, 1, 1, 1, 0, 0, 0, 0, 0, 0, 0, 0, 0, ...       3  \n",
       "45  [1, 0, 1, 0, 1, 0, 1, 1, 1, 1, 0, 0, 0, 0, 0, ...       4  "
      ]
     },
     "execution_count": 24,
     "metadata": {},
     "output_type": "execute_result"
    }
   ],
   "source": [
    "new_id = list(range(0,movies.shape[0]))\n",
    "movies['new_id'] = new_id\n",
    "movies = movies[['title','genres','imdb_score','genres_bin','new_id']]\n",
    "movies.head()"
   ]
  },
  {
   "cell_type": "code",
   "execution_count": 25,
   "id": "2407ca94",
   "metadata": {},
   "outputs": [
    {
     "data": {
      "text/html": [
       "<div>\n",
       "<style scoped>\n",
       "    .dataframe tbody tr th:only-of-type {\n",
       "        vertical-align: middle;\n",
       "    }\n",
       "\n",
       "    .dataframe tbody tr th {\n",
       "        vertical-align: top;\n",
       "    }\n",
       "\n",
       "    .dataframe thead th {\n",
       "        text-align: right;\n",
       "    }\n",
       "</style>\n",
       "<table border=\"1\" class=\"dataframe\">\n",
       "  <thead>\n",
       "    <tr style=\"text-align: right;\">\n",
       "      <th></th>\n",
       "      <th>title</th>\n",
       "      <th>genres</th>\n",
       "      <th>imdb_score</th>\n",
       "      <th>genres_bin</th>\n",
       "      <th>new_id</th>\n",
       "    </tr>\n",
       "  </thead>\n",
       "  <tbody>\n",
       "    <tr>\n",
       "      <th>5</th>\n",
       "      <td>Monty Python's Flying Circus</td>\n",
       "      <td>[comedy, european]</td>\n",
       "      <td>8.8</td>\n",
       "      <td>[1, 1, 0, 0, 0, 0, 0, 0, 0, 0, 0, 0, 0, 0, 0, ...</td>\n",
       "      <td>0</td>\n",
       "    </tr>\n",
       "    <tr>\n",
       "      <th>26</th>\n",
       "      <td>Monty Python's Fliegender Zirkus</td>\n",
       "      <td>[comedy]</td>\n",
       "      <td>8.1</td>\n",
       "      <td>[1, 0, 0, 0, 0, 0, 0, 0, 0, 0, 0, 0, 0, 0, 0, ...</td>\n",
       "      <td>1</td>\n",
       "    </tr>\n",
       "    <tr>\n",
       "      <th>35</th>\n",
       "      <td>Seinfeld</td>\n",
       "      <td>[comedy]</td>\n",
       "      <td>8.9</td>\n",
       "      <td>[1, 0, 0, 0, 0, 0, 0, 0, 0, 0, 0, 0, 0, 0, 0, ...</td>\n",
       "      <td>2</td>\n",
       "    </tr>\n",
       "    <tr>\n",
       "      <th>44</th>\n",
       "      <td>Knight Rider</td>\n",
       "      <td>[action, crime, drama, scifi]</td>\n",
       "      <td>6.9</td>\n",
       "      <td>[0, 0, 1, 1, 1, 1, 0, 0, 0, 0, 0, 0, 0, 0, 0, ...</td>\n",
       "      <td>3</td>\n",
       "    </tr>\n",
       "    <tr>\n",
       "      <th>45</th>\n",
       "      <td>Thomas &amp; Friends</td>\n",
       "      <td>[action, animation, comedy, drama, family, fan...</td>\n",
       "      <td>6.5</td>\n",
       "      <td>[1, 0, 1, 0, 1, 0, 1, 1, 1, 1, 0, 0, 0, 0, 0, ...</td>\n",
       "      <td>4</td>\n",
       "    </tr>\n",
       "    <tr>\n",
       "      <th>...</th>\n",
       "      <td>...</td>\n",
       "      <td>...</td>\n",
       "      <td>...</td>\n",
       "      <td>...</td>\n",
       "      <td>...</td>\n",
       "    </tr>\n",
       "    <tr>\n",
       "      <th>5785</th>\n",
       "      <td>Only Jokes Allowed</td>\n",
       "      <td>[comedy]</td>\n",
       "      <td>4.9</td>\n",
       "      <td>[1, 0, 0, 0, 0, 0, 0, 0, 0, 0, 0, 0, 0, 0, 0, ...</td>\n",
       "      <td>1744</td>\n",
       "    </tr>\n",
       "    <tr>\n",
       "      <th>5801</th>\n",
       "      <td>We Are: The Brooklyn Saints</td>\n",
       "      <td>[documentation, sport]</td>\n",
       "      <td>6.5</td>\n",
       "      <td>[0, 0, 0, 0, 0, 0, 0, 0, 0, 0, 0, 0, 0, 0, 0, ...</td>\n",
       "      <td>1745</td>\n",
       "    </tr>\n",
       "    <tr>\n",
       "      <th>5819</th>\n",
       "      <td>Alma Matters: Inside the IIT Dream</td>\n",
       "      <td>[documentation, drama]</td>\n",
       "      <td>8.3</td>\n",
       "      <td>[0, 0, 0, 0, 1, 0, 0, 0, 0, 0, 0, 0, 0, 0, 0, ...</td>\n",
       "      <td>1746</td>\n",
       "    </tr>\n",
       "    <tr>\n",
       "      <th>5830</th>\n",
       "      <td>Let's Eat</td>\n",
       "      <td>[comedy, drama]</td>\n",
       "      <td>8.2</td>\n",
       "      <td>[1, 0, 0, 0, 1, 0, 0, 0, 0, 0, 0, 0, 0, 0, 0, ...</td>\n",
       "      <td>1747</td>\n",
       "    </tr>\n",
       "    <tr>\n",
       "      <th>5831</th>\n",
       "      <td>Pitta Kathalu</td>\n",
       "      <td>[drama, romance]</td>\n",
       "      <td>5.1</td>\n",
       "      <td>[0, 0, 0, 0, 1, 0, 0, 0, 0, 0, 1, 0, 0, 0, 0, ...</td>\n",
       "      <td>1748</td>\n",
       "    </tr>\n",
       "  </tbody>\n",
       "</table>\n",
       "<p>1749 rows × 5 columns</p>\n",
       "</div>"
      ],
      "text/plain": [
       "                                   title  \\\n",
       "5           Monty Python's Flying Circus   \n",
       "26      Monty Python's Fliegender Zirkus   \n",
       "35                              Seinfeld   \n",
       "44                          Knight Rider   \n",
       "45                      Thomas & Friends   \n",
       "...                                  ...   \n",
       "5785                  Only Jokes Allowed   \n",
       "5801         We Are: The Brooklyn Saints   \n",
       "5819  Alma Matters: Inside the IIT Dream   \n",
       "5830                           Let's Eat   \n",
       "5831                       Pitta Kathalu   \n",
       "\n",
       "                                                 genres  imdb_score  \\\n",
       "5                                    [comedy, european]         8.8   \n",
       "26                                             [comedy]         8.1   \n",
       "35                                             [comedy]         8.9   \n",
       "44                        [action, crime, drama, scifi]         6.9   \n",
       "45    [action, animation, comedy, drama, family, fan...         6.5   \n",
       "...                                                 ...         ...   \n",
       "5785                                           [comedy]         4.9   \n",
       "5801                             [documentation, sport]         6.5   \n",
       "5819                             [documentation, drama]         8.3   \n",
       "5830                                    [comedy, drama]         8.2   \n",
       "5831                                   [drama, romance]         5.1   \n",
       "\n",
       "                                             genres_bin  new_id  \n",
       "5     [1, 1, 0, 0, 0, 0, 0, 0, 0, 0, 0, 0, 0, 0, 0, ...       0  \n",
       "26    [1, 0, 0, 0, 0, 0, 0, 0, 0, 0, 0, 0, 0, 0, 0, ...       1  \n",
       "35    [1, 0, 0, 0, 0, 0, 0, 0, 0, 0, 0, 0, 0, 0, 0, ...       2  \n",
       "44    [0, 0, 1, 1, 1, 1, 0, 0, 0, 0, 0, 0, 0, 0, 0, ...       3  \n",
       "45    [1, 0, 1, 0, 1, 0, 1, 1, 1, 1, 0, 0, 0, 0, 0, ...       4  \n",
       "...                                                 ...     ...  \n",
       "5785  [1, 0, 0, 0, 0, 0, 0, 0, 0, 0, 0, 0, 0, 0, 0, ...    1744  \n",
       "5801  [0, 0, 0, 0, 0, 0, 0, 0, 0, 0, 0, 0, 0, 0, 0, ...    1745  \n",
       "5819  [0, 0, 0, 0, 1, 0, 0, 0, 0, 0, 0, 0, 0, 0, 0, ...    1746  \n",
       "5830  [1, 0, 0, 0, 1, 0, 0, 0, 0, 0, 0, 0, 0, 0, 0, ...    1747  \n",
       "5831  [0, 0, 0, 0, 1, 0, 0, 0, 0, 0, 1, 0, 0, 0, 0, ...    1748  \n",
       "\n",
       "[1749 rows x 5 columns]"
      ]
     },
     "execution_count": 25,
     "metadata": {},
     "output_type": "execute_result"
    }
   ],
   "source": [
    "movies"
   ]
  },
  {
   "cell_type": "markdown",
   "id": "b9acfb96",
   "metadata": {},
   "source": [
    "## Using K-NN to produce 10 recommendations"
   ]
  },
  {
   "cell_type": "code",
   "execution_count": 26,
   "id": "fb537c03",
   "metadata": {},
   "outputs": [],
   "source": [
    "import operator\n",
    "\n",
    "def predict_score(name):\n",
    "    #name = input('Enter a movie title: ')\n",
    "    new_movie = movies[movies['title'].str.contains(name)].iloc[0].to_frame().T\n",
    "    print('Selected Movie: ',new_movie.title.values[0])\n",
    "    def getNeighbors(baseMovie, K):\n",
    "        distances = []\n",
    "    \n",
    "        for index, movie in movies.iterrows():\n",
    "            if movie['new_id'] != baseMovie['new_id'].values[0]:\n",
    "                dist = Similarity(baseMovie['new_id'].values[0], movie['new_id'])\n",
    "                distances.append((movie['new_id'], dist))\n",
    "    \n",
    "        distances.sort(key=operator.itemgetter(1))\n",
    "        neighbors = []\n",
    "    \n",
    "        for x in range(K):\n",
    "            neighbors.append(distances[x])\n",
    "        return neighbors\n",
    "\n",
    "    K = 15\n",
    "    avgRating = 0\n",
    "    neighbors = getNeighbors(new_movie, K)\n",
    "    \n",
    "    print('\\nRecommended Movies: \\n')\n",
    "    for neighbor in neighbors:\n",
    "        avgRating = avgRating+movies.iloc[neighbor[0]][2]  \n",
    "        print( movies.iloc[neighbor[0]][0]+\" | Genres: \"+str(movies.iloc[neighbor[0]][1]).strip('[]').replace(' ','')+\" | Rating: \"+str(movies.iloc[neighbor[0]][2]))\n",
    "    \n",
    "    print('\\n')\n",
    "    avgRating = avgRating/K\n",
    "   "
   ]
  },
  {
   "cell_type": "code",
   "execution_count": 27,
   "id": "19a96e5c",
   "metadata": {},
   "outputs": [
    {
     "name": "stdout",
     "output_type": "stream",
     "text": [
      "Selected Movie:  Thomas & Friends\n",
      "\n",
      "Recommended Movies: \n",
      "\n",
      "Ever After High | Genres: 'action','animation','comedy','drama','family','fantasy','music','romance' | Rating: 7.7\n",
      "Dokidoki! PreCure | Genres: 'action','animation','comedy','drama','family','fantasy' | Rating: 6.2\n",
      "Maya and the Three | Genres: 'action','animation','comedy','drama','family','fantasy' | Rating: 8.1\n",
      "Thomas & Friends: All Engines Go! | Genres: 'animation','comedy','drama','family','fantasy','music' | Rating: 2.0\n",
      "Yu-Gi-Oh! | Genres: 'action','animation','comedy','drama','family','fantasy','scifi' | Rating: 7.3\n",
      "My Little Pony: Friendship Is Magic | Genres: 'animation','comedy','drama','family','fantasy','music','scifi' | Rating: 7.6\n",
      "The Legend of Korra | Genres: 'action','animation','comedy','drama','family','fantasy','scifi' | Rating: 8.4\n",
      "Talking Tom and Friends | Genres: 'action','animation','comedy','drama','european','family','fantasy' | Rating: 6.1\n",
      "Pac-Man and the Ghostly Adventures | Genres: 'action','animation','comedy','drama','family','fantasy','scifi' | Rating: 4.6\n",
      "Trollhunters: Tales of Arcadia | Genres: 'action','animation','comedy','drama','family','fantasy','scifi' | Rating: 8.4\n",
      "Voltron: Legendary Defender | Genres: 'action','animation','comedy','drama','family','fantasy','scifi' | Rating: 8.1\n",
      "Dragons: Race to the Edge | Genres: 'action','animation','comedy','drama','family','fantasy','scifi' | Rating: 8.2\n",
      "Rise of the Teenage Mutant Ninja Turtles | Genres: 'action','animation','comedy','drama','family','fantasy','scifi' | Rating: 4.9\n",
      "She-Ra and the Princesses of Power | Genres: 'action','animation','comedy','drama','family','fantasy','scifi' | Rating: 7.8\n",
      "Little Witch Academia | Genres: 'action','animation','comedy','drama','family','fantasy','scifi' | Rating: 7.9\n",
      "\n",
      "\n"
     ]
    }
   ],
   "source": [
    "predict_score('Thomas & Friends')"
   ]
  },
  {
   "cell_type": "code",
   "execution_count": 28,
   "id": "e6687f33",
   "metadata": {
    "scrolled": false
   },
   "outputs": [
    {
     "name": "stdout",
     "output_type": "stream",
     "text": [
      "Selected Movie:  Knight Rider\n",
      "\n",
      "Recommended Movies: \n",
      "\n",
      "Arrow | Genres: 'action','crime','drama','scifi','thriller' | Rating: 7.5\n",
      "Gotham | Genres: 'action','crime','drama','scifi','thriller' | Rating: 7.8\n",
      "Vanished 46 | Genres: 'action','crime','drama','scifi','thriller' | Rating: 8.2\n",
      "Wu Assassins | Genres: 'action','crime','drama','fantasy','scifi' | Rating: 6.4\n",
      "In from the Cold | Genres: 'action','crime','drama','scifi','thriller' | Rating: 6.2\n",
      "The One | Genres: 'action','crime','drama','scifi','thriller' | Rating: 6.6\n",
      "Stargate SG-1 | Genres: 'action','drama','scifi' | Rating: 8.4\n",
      "The 100 | Genres: 'action','drama','scifi' | Rating: 7.6\n",
      "DC's Legends of Tomorrow | Genres: 'action','drama','scifi' | Rating: 6.8\n",
      "Supergirl | Genres: 'action','drama','scifi' | Rating: 6.2\n",
      "Wanted | Genres: 'action','crime','drama' | Rating: 7.6\n",
      "The Paper | Genres: 'action','crime','drama' | Rating: 7.4\n",
      "Mind Game | Genres: 'action','crime','drama' | Rating: 7.5\n",
      "Black Lightning | Genres: 'action','drama','scifi' | Rating: 6.1\n",
      "Ad Vitam | Genres: 'crime','drama','scifi' | Rating: 6.4\n",
      "\n",
      "\n"
     ]
    }
   ],
   "source": [
    "predict_score('Knight Rider')"
   ]
  },
  {
   "cell_type": "code",
   "execution_count": 29,
   "id": "a0588de7",
   "metadata": {},
   "outputs": [
    {
     "name": "stdout",
     "output_type": "stream",
     "text": [
      "Selected Movie:  We Are: The Brooklyn Saints\n",
      "\n",
      "Recommended Movies: \n",
      "\n",
      "Last Chance U | Genres: 'documentation','sport' | Rating: 8.4\n",
      "Sunderland 'Til I Die | Genres: 'documentation','sport' | Rating: 8.1\n",
      "Becoming Champions | Genres: 'documentation','sport' | Rating: 6.7\n",
      "Formula 1: Drive to Survive | Genres: 'documentation','sport' | Rating: 8.6\n",
      "The Least Expected Day: Inside the Movistar Team 2019 | Genres: 'documentation','sport' | Rating: 7.4\n",
      "The Playbook | Genres: 'documentation','sport' | Rating: 7.4\n",
      "Basketball or Nothing | Genres: 'documentation','sport' | Rating: 7.4\n",
      "Home Game | Genres: 'documentation','sport' | Rating: 7.0\n",
      "Cricket Fever: Mumbai Indians | Genres: 'documentation','sport' | Rating: 7.2\n",
      "Last Chance U: Basketball | Genres: 'documentation','sport' | Rating: 8.3\n",
      "Neymar: The Perfect Chaos | Genres: 'documentation','sport' | Rating: 6.6\n",
      "Naomi Osaka | Genres: 'documentation','sport' | Rating: 6.2\n",
      "Race: Bubba Wallace | Genres: 'documentation','sport' | Rating: 5.9\n",
      "The Last Dance | Genres: 'documentation','history','sport' | Rating: 9.1\n",
      "The Family | Genres: 'documentation','reality','sport' | Rating: 6.4\n",
      "\n",
      "\n"
     ]
    }
   ],
   "source": [
    "predict_score('We Are: The Brooklyn Saints')"
   ]
  },
  {
   "cell_type": "code",
   "execution_count": 30,
   "id": "639ef3de",
   "metadata": {},
   "outputs": [
    {
     "name": "stdout",
     "output_type": "stream",
     "text": [
      "Selected Movie:  Seinfeld\n",
      "\n",
      "Recommended Movies: \n",
      "\n",
      "Monty Python's Fliegender Zirkus | Genres: 'comedy' | Rating: 8.1\n",
      "High Risk | Genres: 'comedy' | Rating: 3.8\n",
      "The Parkers | Genres: 'comedy' | Rating: 6.8\n",
      "H | Genres: 'comedy' | Rating: 7.4\n",
      "Community | Genres: 'comedy' | Rating: 8.5\n",
      "Arrested Development | Genres: 'comedy' | Rating: 8.7\n",
      "Half & Half | Genres: 'comedy' | Rating: 7.0\n",
      "One on One | Genres: 'comedy' | Rating: 7.0\n",
      "Nuevo Rico Nuevo Pobre | Genres: 'comedy' | Rating: 7.1\n",
      "Meet the Adebanjos | Genres: 'comedy' | Rating: 7.6\n",
      "Zach Stone Is Gonna Be Famous | Genres: 'comedy' | Rating: 8.3\n",
      "Schitt's Creek | Genres: 'comedy' | Rating: 8.5\n",
      "Crazy Ex-Girlfriend | Genres: 'comedy' | Rating: 7.8\n",
      "Kim's Convenience | Genres: 'comedy' | Rating: 8.2\n",
      "Wet Hot American Summer: First Day of Camp | Genres: 'comedy' | Rating: 7.3\n",
      "\n",
      "\n"
     ]
    }
   ],
   "source": [
    "predict_score('Seinfeld')"
   ]
  },
  {
   "cell_type": "code",
   "execution_count": 31,
   "id": "dc903374",
   "metadata": {},
   "outputs": [
    {
     "name": "stdout",
     "output_type": "stream",
     "text": [
      "Selected Movie:  Sweet Tooth\n",
      "\n",
      "Recommended Movies: \n",
      "\n",
      "The Protector | Genres: 'action','drama','fantasy','scifi' | Rating: 6.5\n",
      "Warrior Nun | Genres: 'action','drama','fantasy','scifi' | Rating: 6.8\n",
      "Cursed | Genres: 'action','drama','fantasy','scifi' | Rating: 5.8\n",
      "Shadow and Bone | Genres: 'action','drama','fantasy','scifi' | Rating: 7.6\n",
      "Fate: The Winx Saga | Genres: 'action','drama','fantasy','scifi' | Rating: 6.8\n",
      "Tribes of Europa | Genres: 'action','drama','fantasy','scifi' | Rating: 6.7\n",
      "Merlin | Genres: 'action','drama','european','fantasy','scifi' | Rating: 7.9\n",
      "Van Helsing | Genres: 'action','drama','fantasy','horror','scifi' | Rating: 6.2\n",
      "Fate/Apocrypha | Genres: 'action','animation','drama','fantasy','scifi' | Rating: 6.6\n",
      "The Umbrella Academy | Genres: 'action','comedy','drama','fantasy','scifi' | Rating: 8.0\n",
      "The Witcher | Genres: 'action','drama','fantasy','horror','scifi' | Rating: 8.2\n",
      "Alice in Borderland | Genres: 'action','drama','fantasy','scifi','thriller' | Rating: 7.6\n",
      "Ragnarok | Genres: 'action','drama','fantasy','scifi','thriller' | Rating: 7.5\n",
      "Wu Assassins | Genres: 'action','crime','drama','fantasy','scifi' | Rating: 6.4\n",
      "Ultraman | Genres: 'action','animation','drama','fantasy','scifi' | Rating: 6.8\n",
      "\n",
      "\n"
     ]
    }
   ],
   "source": [
    "predict_score('Sweet Tooth')"
   ]
  },
  {
   "cell_type": "code",
   "execution_count": 32,
   "id": "75a42d35",
   "metadata": {},
   "outputs": [
    {
     "name": "stdout",
     "output_type": "stream",
     "text": [
      "Selected Movie:  After Life\n",
      "\n",
      "Recommended Movies: \n",
      "\n",
      "Gilmore Girls | Genres: 'comedy','drama' | Rating: 8.2\n",
      "Girlfriends | Genres: 'comedy','drama' | Rating: 7.2\n",
      "Midnight Diner | Genres: 'comedy','drama' | Rating: 8.6\n",
      "El Escamoso | Genres: 'comedy','drama' | Rating: 7.5\n",
      "Shameless | Genres: 'comedy','drama' | Rating: 8.6\n",
      "EastSiders | Genres: 'comedy','drama' | Rating: 6.8\n",
      "Jane the Virgin | Genres: 'comedy','drama' | Rating: 7.8\n",
      "Incomplete Life | Genres: 'comedy','drama' | Rating: 8.5\n",
      "Two Fathers | Genres: 'comedy','drama' | Rating: 8.0\n",
      "Grace and Frankie | Genres: 'comedy','drama' | Rating: 8.2\n",
      "Unbreakable Kimmy Schmidt | Genres: 'comedy','drama' | Rating: 7.6\n",
      "Master of None | Genres: 'comedy','drama' | Rating: 8.3\n",
      "Easy | Genres: 'comedy','drama' | Rating: 6.9\n",
      "Gilmore Girls: A Year in the Life | Genres: 'comedy','drama' | Rating: 7.6\n",
      "Lady Dynamite | Genres: 'comedy','drama' | Rating: 7.3\n",
      "\n",
      "\n"
     ]
    }
   ],
   "source": [
    "predict_score('After Life')"
   ]
  },
  {
   "cell_type": "code",
   "execution_count": 33,
   "id": "2293f66c",
   "metadata": {},
   "outputs": [
    {
     "name": "stdout",
     "output_type": "stream",
     "text": [
      "Selected Movie:  Super Monsters\n",
      "\n",
      "Recommended Movies: \n",
      "\n",
      "Hotel Transylvania: The Series | Genres: 'animation','comedy','family','fantasy','horror' | Rating: 5.3\n",
      "Tayo the Little Bus | Genres: 'animation','comedy','family' | Rating: 5.3\n",
      "Dreamworks Happy Holidays from Madagascar | Genres: 'animation','comedy','family' | Rating: 6.5\n",
      "Comedians in Cars Getting Coffee | Genres: 'animation','comedy','family' | Rating: 8.0\n",
      "Barbie: Life in the Dreamhouse | Genres: 'animation','comedy','family' | Rating: 7.4\n",
      "Ask the Storybots | Genres: 'animation','comedy','family' | Rating: 8.4\n",
      "Simon | Genres: 'animation','comedy','family' | Rating: 7.0\n",
      "Cocomelon | Genres: 'animation','comedy','family' | Rating: 4.7\n",
      "Barbie: Dreamhouse Adventures | Genres: 'animation','comedy','family' | Rating: 6.7\n",
      "Rainbow High | Genres: 'animation','comedy','family' | Rating: 5.8\n",
      "Shaun the Sheep: Adventures from Mossy Bottom | Genres: 'animation','comedy','family' | Rating: 8.1\n",
      "Alien TV | Genres: 'animation','comedy','family' | Rating: 6.1\n",
      "Pinky Malinky | Genres: 'animation','comedy','family' | Rating: 5.5\n",
      "Rhyme Time Town | Genres: 'animation','comedy','family' | Rating: 7.6\n",
      "Go! Go! Cory Carson | Genres: 'animation','comedy','family' | Rating: 7.9\n",
      "\n",
      "\n"
     ]
    }
   ],
   "source": [
    "predict_score('Super Monsters')"
   ]
  },
  {
   "cell_type": "code",
   "execution_count": 34,
   "id": "d549f0f5",
   "metadata": {},
   "outputs": [
    {
     "name": "stdout",
     "output_type": "stream",
     "text": [
      "Selected Movie:  Intimacy\n",
      "\n",
      "Recommended Movies: \n",
      "\n",
      "Breaking Bad | Genres: 'crime','drama','thriller' | Rating: 9.5\n",
      "The Blacklist | Genres: 'crime','drama','thriller' | Rating: 8.0\n",
      "How to Get Away with Murder | Genres: 'crime','drama','thriller' | Rating: 8.1\n",
      "Wentworth | Genres: 'crime','drama','thriller' | Rating: 8.6\n",
      "Narcos | Genres: 'crime','drama','thriller' | Rating: 8.8\n",
      "Quantico | Genres: 'crime','drama','thriller' | Rating: 6.6\n",
      "The Method | Genres: 'crime','drama','thriller' | Rating: 7.4\n",
      "Close Your Eyes Before It's Dark | Genres: 'crime','drama','thriller' | Rating: 7.0\n",
      "The Sinner | Genres: 'crime','drama','thriller' | Rating: 7.9\n",
      "Ozark | Genres: 'crime','drama','thriller' | Rating: 8.5\n",
      "Mindhunter | Genres: 'crime','drama','thriller' | Rating: 8.6\n",
      "Manhunt | Genres: 'crime','drama','thriller' | Rating: 8.1\n",
      "Elite | Genres: 'crime','drama','thriller' | Rating: 7.4\n",
      "Deadwind | Genres: 'crime','drama','thriller' | Rating: 7.2\n",
      "Collateral | Genres: 'crime','drama','thriller' | Rating: 6.7\n",
      "\n",
      "\n"
     ]
    }
   ],
   "source": [
    "predict_score('Intimacy')"
   ]
  },
  {
   "cell_type": "markdown",
   "id": "a6fa04c8",
   "metadata": {},
   "source": [
    "##### Alternative\n",
    "## Using Cosine Similarity"
   ]
  },
  {
   "cell_type": "code",
   "execution_count": 35,
   "id": "3203c432",
   "metadata": {},
   "outputs": [],
   "source": [
    "netflixmovies = pd.read_csv(r\"C:\\Users\\luoco\\Documents\\Personalisation-22-23\\data\\netflix_titles.csv\")"
   ]
  },
  {
   "cell_type": "code",
   "execution_count": 36,
   "id": "25b5df88",
   "metadata": {},
   "outputs": [
    {
     "data": {
      "text/plain": [
       "(5850, 21061)"
      ]
     },
     "execution_count": 36,
     "metadata": {},
     "output_type": "execute_result"
    }
   ],
   "source": [
    "#Import TfIdfVectorizer from scikit-learn\n",
    "from sklearn.feature_extraction.text import TfidfVectorizer\n",
    "\n",
    "#Define a TF-IDF Vectorizer Object. Remove all english stop words such as 'the', 'a'\n",
    "tfidf = TfidfVectorizer(stop_words='english')\n",
    "\n",
    "#Replace NaN with an empty string\n",
    "netflixmovies['description'] = netflixmovies['description'].fillna('')\n",
    "\n",
    "#Construct the required TF-IDF matrix by fitting and transforming the data\n",
    "tfidf_matrix = tfidf.fit_transform(netflixmovies['description'])\n",
    "\n",
    "#Output the shape of tfidf_matrix\n",
    "tfidf_matrix.shape"
   ]
  },
  {
   "cell_type": "code",
   "execution_count": 37,
   "id": "48cb57b0",
   "metadata": {},
   "outputs": [],
   "source": [
    "#Import cosine similarity\n",
    "from sklearn.metrics.pairwise import cosine_similarity\n",
    "\n",
    "#Compute the cosine similarity matrix\n",
    "cosine_sim = cosine_similarity(tfidf_matrix, tfidf_matrix)"
   ]
  },
  {
   "cell_type": "code",
   "execution_count": 38,
   "id": "8381290d",
   "metadata": {},
   "outputs": [],
   "source": [
    "#Construct a reverse map of indices and movie titles\n",
    "indices = pd.Series(netflixmovies.index, index=netflixmovies['title']).drop_duplicates()"
   ]
  },
  {
   "cell_type": "markdown",
   "id": "7e923845",
   "metadata": {},
   "source": [
    " These are the to define our recommendation function :-\n",
    "* Get the index of the movie given its title.\n",
    "* Get the list of cosine similarity scores for that particular movie with all movies. Convert it into a list of tuples where the first element is its position and the second is the similarity score.\n",
    "* Sort the aforementioned list of tuples based on the similarity scores; that is, the second element.\n",
    "* Get the top 10 elements of this list. Ignore the first element as it refers to self (the movie most similar to a particular movie is the movie itself).\n",
    "* Return the titles corresponding to the indices of the top elements."
   ]
  },
  {
   "cell_type": "code",
   "execution_count": 39,
   "id": "42df9dc4",
   "metadata": {},
   "outputs": [],
   "source": [
    "# Function that takes in movie title as input and outputs most similar movies\n",
    "def get_recommendations(title, cosine_sim=cosine_sim):\n",
    "    # Get the index of the movie that matches the title\n",
    "    idx = indices[title]\n",
    "\n",
    "    # Get the pairwsie similarity scores of all movies with that movie\n",
    "    sim_scores = list(enumerate(cosine_sim[idx]))\n",
    "\n",
    "    # Sort the movies based on the similarity scores\n",
    "    sim_scores = sorted(sim_scores, key=lambda x: x[1], reverse=True)\n",
    "\n",
    "    # Get the scores of the 10 most similar movies\n",
    "    sim_scores = sim_scores[1:11]\n",
    "\n",
    "    # Get the movie indices\n",
    "    movie_indices = [i[0] for i in sim_scores]\n",
    "\n",
    "    # Return the top 10 most similar movies\n",
    "    return netflixmovies['title'].iloc[movie_indices]"
   ]
  },
  {
   "cell_type": "code",
   "execution_count": 42,
   "id": "5257605a",
   "metadata": {},
   "outputs": [
    {
     "data": {
      "text/plain": [
       "2513                    The Who Was? Show\n",
       "2248                          Llama Llama\n",
       "421                          Horrid Henry\n",
       "5298    Thomas & Friends: All Engines Go!\n",
       "308                             Octonauts\n",
       "120                            Goosebumps\n",
       "4104                  Go! Go! Cory Carson\n",
       "2147      Final Fantasy XIV: Dad of Light\n",
       "1310        David Brent: Life on the Road\n",
       "4578                                 Gone\n",
       "Name: title, dtype: object"
      ]
     },
     "execution_count": 42,
     "metadata": {},
     "output_type": "execute_result"
    }
   ],
   "source": [
    "get_recommendations('Thomas & Friends')\n"
   ]
  },
  {
   "cell_type": "code",
   "execution_count": 43,
   "id": "ef0724c5",
   "metadata": {},
   "outputs": [
    {
     "data": {
      "text/plain": [
       "164                                     Knight Rider 2000\n",
       "699                                              The Rite\n",
       "2748    Michael Bolton's Big, Sexy Valentine's Day Spe...\n",
       "638                                      Brother's Shadow\n",
       "1140                                             The Take\n",
       "5051                                 DOTA: Dragon's Blood\n",
       "3871                            Michael McIntyre: Showman\n",
       "3959                          The Knight Before Christmas\n",
       "4704                              How to Change Your Mind\n",
       "1533                                     The Blind Christ\n",
       "Name: title, dtype: object"
      ]
     },
     "execution_count": 43,
     "metadata": {},
     "output_type": "execute_result"
    }
   ],
   "source": [
    "get_recommendations('Knight Rider')"
   ]
  },
  {
   "cell_type": "code",
   "execution_count": 44,
   "id": "07287a5c",
   "metadata": {},
   "outputs": [
    {
     "data": {
      "text/plain": [
       "1554                Coach Snoop\n",
       "325             We Are Marshall\n",
       "734                  Undefeated\n",
       "1806            Black Lightning\n",
       "2949               Project Papa\n",
       "5035          Jump Like a Witch\n",
       "3906                 Mismatched\n",
       "1543          You Are My Sunday\n",
       "1964    VeggieTales in the City\n",
       "4287            Mi amigo Alexis\n",
       "Name: title, dtype: object"
      ]
     },
     "execution_count": 44,
     "metadata": {},
     "output_type": "execute_result"
    }
   ],
   "source": [
    "get_recommendations('We Are: The Brooklyn Saints')"
   ]
  },
  {
   "cell_type": "code",
   "execution_count": 45,
   "id": "852470f0",
   "metadata": {},
   "outputs": [
    {
     "data": {
      "text/plain": [
       "3899                   Pete Davidson: Alive from New York\n",
       "2433                                            Relatable\n",
       "3534                             Michelle Wolf: Joke Show\n",
       "1821                            James Acaster: Repertoire\n",
       "1309                                                Barry\n",
       "4824                                              Passing\n",
       "4605                    David Batra: Elephant in The Room\n",
       "597          Jeff Dunham's Very Special Christmas Special\n",
       "1873    Jim & Andy: The Great Beyond - Featuring a Ver...\n",
       "5182                      Saturday Morning All Star Hits!\n",
       "Name: title, dtype: object"
      ]
     },
     "execution_count": 45,
     "metadata": {},
     "output_type": "execute_result"
    }
   ],
   "source": [
    "get_recommendations('Seinfeld')"
   ]
  },
  {
   "cell_type": "code",
   "execution_count": 46,
   "id": "cbbe27aa",
   "metadata": {},
   "outputs": [
    {
     "data": {
      "text/plain": [
       "3214           Kipo and the Age of Wonderbeasts\n",
       "4916                                   Tomorrow\n",
       "2567                            Half Girlfriend\n",
       "3602                                   Vampires\n",
       "405                                 Half & Half\n",
       "1307                                   Dinotrux\n",
       "4890    Chickenhare and the Hamster of Darkness\n",
       "36                                   GoodFellas\n",
       "5214                                   Sharkdog\n",
       "4842                                 Black Crab\n",
       "Name: title, dtype: object"
      ]
     },
     "execution_count": 46,
     "metadata": {},
     "output_type": "execute_result"
    }
   ],
   "source": [
    "get_recommendations('Sweet Tooth')"
   ]
  },
  {
   "cell_type": "code",
   "execution_count": 47,
   "id": "d2407ea5",
   "metadata": {},
   "outputs": [
    {
     "data": {
      "text/plain": [
       "2046                               The Good Cop\n",
       "5734                Tony Parker: The Final Shot\n",
       "2264                                   Burn Out\n",
       "2306                      The Little Vampire 3D\n",
       "4371                            Blood Will Tell\n",
       "1110                     The Royal Bengal Tiger\n",
       "2232                          Happy Anniversary\n",
       "1477           Tony Robbins: I Am Not Your Guru\n",
       "3745    LEGO Marvel Avengers: Climate Conundrum\n",
       "3556                  Fast & Furious Spy Racers\n",
       "Name: title, dtype: object"
      ]
     },
     "execution_count": 47,
     "metadata": {},
     "output_type": "execute_result"
    }
   ],
   "source": [
    "get_recommendations('After Life')"
   ]
  },
  {
   "cell_type": "code",
   "execution_count": 48,
   "id": "1a8b1d9e",
   "metadata": {},
   "outputs": [
    {
     "data": {
      "text/plain": [
       "4911                            Fate: The Winx Saga\n",
       "2156                                 Fun Mom Dinner\n",
       "739     Maria Bamford: The Special Special Special!\n",
       "3915                                   Glitch Techs\n",
       "1537                                       Kazoops!\n",
       "4000                                    Monster Run\n",
       "2066                                Chip and Potato\n",
       "54                                     Endless Love\n",
       "3412                              See You Yesterday\n",
       "3323                               We Can Be Heroes\n",
       "Name: title, dtype: object"
      ]
     },
     "execution_count": 48,
     "metadata": {},
     "output_type": "execute_result"
    }
   ],
   "source": [
    "get_recommendations('Super Monsters')"
   ]
  },
  {
   "cell_type": "code",
   "execution_count": 49,
   "id": "a3ea88d0",
   "metadata": {},
   "outputs": [
    {
     "data": {
      "text/plain": [
       "2649                        Unbridled\n",
       "3329                       High Score\n",
       "2264                         Burn Out\n",
       "4044        Room 2806: The Accusation\n",
       "4717             Anatomy of a Scandal\n",
       "5324                  The Five Juanas\n",
       "4542    David A. Arnold Fat Ballerina\n",
       "5398                      Tattoo Redo\n",
       "414                       Cairo 6,7,8\n",
       "3006                Puriyaatha Puthir\n",
       "Name: title, dtype: object"
      ]
     },
     "execution_count": 49,
     "metadata": {},
     "output_type": "execute_result"
    }
   ],
   "source": [
    "get_recommendations('Intimacy')"
   ]
  },
  {
   "cell_type": "code",
   "execution_count": null,
   "id": "81818e34",
   "metadata": {},
   "outputs": [],
   "source": []
  }
 ],
 "metadata": {
  "kernelspec": {
   "display_name": "Python 3 (ipykernel)",
   "language": "python",
   "name": "python3"
  },
  "language_info": {
   "codemirror_mode": {
    "name": "ipython",
    "version": 3
   },
   "file_extension": ".py",
   "mimetype": "text/x-python",
   "name": "python",
   "nbconvert_exporter": "python",
   "pygments_lexer": "ipython3",
   "version": "3.9.13"
  }
 },
 "nbformat": 4,
 "nbformat_minor": 5
}
